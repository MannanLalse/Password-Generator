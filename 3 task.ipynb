{
 "cells": [
  {
   "cell_type": "code",
   "execution_count": null,
   "id": "c54bd2e5-008b-40ea-bde0-ce00b0e946d9",
   "metadata": {},
   "outputs": [],
   "source": [
    "import random\n",
    "import string\n",
    "\n",
    "def generate_password(length):\n",
    "    # Define the character sets\n",
    "    lowercase = string.ascii_lowercase\n",
    "    uppercase = string.ascii_uppercase\n",
    "    digits = string.digits\n",
    "    special_characters = string.punctuation\n",
    "    \n",
    "    # Combine all character sets\n",
    "    all_characters = lowercase + uppercase + digits + special_characters\n",
    "    \n",
    "    # Generate a random password from the combined character set\n",
    "    password = ''.join(random.choice(all_characters) for i in range(length))\n",
    "    \n",
    "    return password\n",
    "\n",
    "# Get user input for the length of the password\n",
    "password_length = int(input(\"Enter the desired password length: \"))\n",
    "\n",
    "# Generate and display the password\n",
    "generated_password = generate_password(password_length)\n",
    "print(\"\\nGenerated Password:\", generated_password)"
   ]
  }
 ],
 "metadata": {
  "kernelspec": {
   "display_name": "Python 3 (ipykernel)",
   "language": "python",
   "name": "python3"
  },
  "language_info": {
   "codemirror_mode": {
    "name": "ipython",
    "version": 3
   },
   "file_extension": ".py",
   "mimetype": "text/x-python",
   "name": "python",
   "nbconvert_exporter": "python",
   "pygments_lexer": "ipython3",
   "version": "3.12.5"
  }
 },
 "nbformat": 4,
 "nbformat_minor": 5
}
